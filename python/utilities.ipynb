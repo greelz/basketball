{
 "cells": [
  {
   "cell_type": "code",
   "execution_count": 26,
   "id": "b69c6912",
   "metadata": {},
   "outputs": [],
   "source": [
    "import csv "
   ]
  },
  {
   "cell_type": "code",
   "execution_count": 27,
   "id": "f596a11d",
   "metadata": {},
   "outputs": [],
   "source": [
    "file_path = 'data.csv'\n",
    "team_data = {}\n",
    "\n",
    "def increment_safely(dic, item, val):\n",
    "    if item not in dic:\n",
    "        dic[item] = {}\n",
    "\n",
    "    dic[item] = val\n",
    "    "
   ]
  },
  {
   "cell_type": "code",
   "execution_count": 28,
   "id": "39a6813f",
   "metadata": {
    "lines_to_next_cell": 2
   },
   "outputs": [],
   "source": [
    "with open(file_path, newline='', encoding='utf-8') as csvfile: \n",
    "    reader = csv.reader(csvfile)\n",
    "    headers = next(reader)\n",
    "    if len([x for x in headers if x != \"\"]) == 0:\n",
    "        headers = next(reader) # read a new team name\n",
    "        team_name = headers[0]\n",
    "        # continue # start back at the top\n",
    "\n",
    "    player_name = headers[0]\n",
    "    played = headers[1]# skipped for now\n",
    "    points = headers[2]\n",
    "    two_pt_attempt = headers[3]\n",
    "    two_pt_made = headers[4]\n",
    "    three_pt_attempt = headers[5]\n",
    "    three_pt_made = headers[6]\n",
    "    fg_percentage = headers[7]# skipped for now\n",
    "    oreb = headers[8]\n",
    "    dreb = headers[9]\n",
    "    treb = headers[10]# skipped for now\n",
    "    assists = headers[11]\n",
    "    steals = headers[12]\n",
    "    blocks = headers[13]\n",
    "    turnovers = headers[14]\n",
    "    efg_percentage = headers[15]# skipped for now\n",
    "    opponent = headers[16] # skipped for now\n",
    "\n",
    "    \n",
    "    if player_name not in team_data:\n",
    "        team_data[player_name] = {}\n",
    "    \n",
    "    \n",
    "    increment_safely(team_data[player_name], 'points', points)\n",
    "    increment_safely(team_data[player_name], 'two_pt_attempt', two_pt_attempt)\n",
    "    increment_safely(team_data[player_name], 'two_pt_made', two_pt_made)\n",
    "    increment_safely(team_data[player_name], 'three_pt_attempt', three_pt_attempt)\n",
    "    increment_safely(team_data[player_name], 'three_pt_made', three_pt_made)\n",
    "    increment_safely(team_data[player_name], 'oreb', oreb)\n",
    "    increment_safely(team_data[player_name], 'dreb', dreb)\n",
    "    increment_safely(team_data[player_name], 'assists', assists)\n",
    "    increment_safely(team_data[player_name], 'steals', steals)\n",
    "    increment_safely(team_data[player_name], 'blocks', blocks)\n",
    "    increment_safely(team_data[player_name], 'turnovers', turnovers)\n",
    "\n",
    "        \n"
   ]
  },
  {
   "cell_type": "code",
   "execution_count": null,
   "id": "02156c55",
   "metadata": {},
   "outputs": [],
   "source": [
    "print(team_data)"
   ]
  }
 ],
 "metadata": {
  "jupytext": {
   "cell_metadata_filter": "-all",
   "main_language": "python",
   "notebook_metadata_filter": "-all"
  },
  "kernelspec": {
   "display_name": "Python 3",
   "language": "python",
   "name": "python3"
  },
  "language_info": {
   "codemirror_mode": {
    "name": "ipython",
    "version": 3
   },
   "file_extension": ".py",
   "mimetype": "text/x-python",
   "name": "python",
   "nbconvert_exporter": "python",
   "pygments_lexer": "ipython3",
   "version": "3.12.1"
  }
 },
 "nbformat": 4,
 "nbformat_minor": 5
}

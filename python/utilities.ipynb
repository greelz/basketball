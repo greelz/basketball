{
 "cells": [
  {
   "cell_type": "markdown",
   "id": "6185ab60",
   "metadata": {},
   "source": [
    "All the necessary imports\n",
    "\n",
    "You have sections that you can create as \"markdown\" vs \"code\""
   ]
  },
  {
   "cell_type": "code",
   "execution_count": 1,
   "id": "b69c6912",
   "metadata": {},
   "outputs": [
    {
     "data": {
      "text/plain": [
       "<firebase_admin.App at 0x2a84553b380>"
      ]
     },
     "execution_count": 1,
     "metadata": {},
     "output_type": "execute_result"
    }
   ],
   "source": [
    "import csv \n",
    "import json\n",
    "import firebase_admin\n",
    "from firebase_admin import credentials, firestore\n",
    "\n",
    "# import ast \n",
    "# with open(\"ids.txt\", \"r\") as f:\n",
    "#     data = f.read()\n",
    "\n",
    "# player_ids = ast.literal_eval(data)\n",
    "\n",
    "\n",
    "def find_person(array, name):\n",
    "    for i in array:\n",
    "        if i[1] == name:\n",
    "            return i[0]\n",
    "\n",
    "    return None\n",
    "\n",
    "cred = credentials.Certificate(\"key.json\")\n",
    "firebase_admin.initialize_app(cred)"
   ]
  },
  {
   "cell_type": "code",
   "execution_count": 2,
   "id": "f596a11d",
   "metadata": {},
   "outputs": [],
   "source": [
    "file_path = 'data-orange.csv'\n",
    "team_data = {}\n",
    "\n",
    "def increment_safely(dic, item, val):\n",
    "    try:\n",
    "        val = int(float(val))\n",
    "    except:\n",
    "        return\n",
    "    if item not in dic:\n",
    "        dic[item] = 0\n",
    "\n",
    "    dic[item] = dic[item] + val\n",
    "    "
   ]
  },
  {
   "cell_type": "code",
   "execution_count": 3,
   "id": "39a6813f",
   "metadata": {
    "lines_to_next_cell": 2
   },
   "outputs": [],
   "source": [
    "with open(file_path, newline='', encoding='utf-8') as csvfile: \n",
    "    reader = csv.reader(csvfile)\n",
    "    headers = next(reader, None) # read the first (irrelevant) line\n",
    "    while(True):\n",
    "        headers = next(reader, None)\n",
    "        if headers is None:\n",
    "            break\n",
    "        if len([x for x in headers[:16] if x != \"\"]) == 0:\n",
    "            headers = next(reader, None) # read a new team name\n",
    "            if headers is None:\n",
    "                break\n",
    "            team_name = headers[0]\n",
    "            continue # start back at the top\n",
    "\n",
    "        player_name = headers[0]\n",
    "        played = headers[1] # skipped for now\n",
    "        points = headers[2]\n",
    "        two_pt_attempt = headers[3]\n",
    "        two_pt_made = headers[4]\n",
    "        three_pt_attempt = headers[5]\n",
    "        three_pt_made = headers[6]\n",
    "        fg_percentage = headers[7] # skipped for now\n",
    "        oreb = headers[8]\n",
    "        dreb = headers[9]\n",
    "        treb = headers[10] # skipped for now\n",
    "        assists = headers[11]\n",
    "        steals = headers[12]\n",
    "        blocks = headers[13]\n",
    "        turnovers = headers[14]\n",
    "        efg_percentage = headers[15] # skipped for now\n",
    "        opponent = headers[16] # skipped for now\n",
    "\n",
    "        player_name = player_name.strip().replace(\"*\", \"\")\n",
    "\n",
    "        if player_name == \"Kyle Stockford\":\n",
    "            player_name = \"Kyle S\"\n",
    "        \n",
    "        if player_name.find(\"Per Game\") > -1:\n",
    "            continue\n",
    "\n",
    "        if player_name not in team_data:\n",
    "            team_data[player_name] = {}\n",
    "            # player_id = find_person(player_ids, player_name)\n",
    "            # if player_id is not None:\n",
    "            #     team_data[player_name] = {\n",
    "            #         'player_id': player_id\n",
    "            #     }\n",
    "            # else:\n",
    "            #     continue\n",
    "\n",
    "        \n",
    "        \n",
    "        if points == \"\" and dreb == \"\" and two_pt_attempt == \"\" and steals == \"\":\n",
    "            # don't add this game to the list, it says they didn't play\n",
    "            # and they didn't add anything measureable to stat book\n",
    "            continue\n",
    "\n",
    "        increment_safely(team_data[player_name], 'games', 1)\n",
    "        increment_safely(team_data[player_name], 'points', points)\n",
    "        increment_safely(team_data[player_name], 'two_pt_attempt', two_pt_attempt)\n",
    "        increment_safely(team_data[player_name], 'two_pt_made', two_pt_made)\n",
    "        increment_safely(team_data[player_name], 'three_pt_attempt', three_pt_attempt)\n",
    "        increment_safely(team_data[player_name], 'three_pt_made', three_pt_made)\n",
    "        increment_safely(team_data[player_name], 'oreb', oreb)\n",
    "        increment_safely(team_data[player_name], 'dreb', dreb)\n",
    "        increment_safely(team_data[player_name], 'assists', assists)\n",
    "        increment_safely(team_data[player_name], 'steals', steals)\n",
    "        increment_safely(team_data[player_name], 'blocks', blocks)\n",
    "        increment_safely(team_data[player_name], 'turnovers', turnovers)\n",
    "\n",
    "            \n"
   ]
  },
  {
   "cell_type": "code",
   "execution_count": 4,
   "id": "02156c55",
   "metadata": {},
   "outputs": [],
   "source": [
    "# db = firestore.client()\n",
    "\n",
    "# doc_ref = db.collection('leagues/PzZH38lp1R6wYs5Luf67/seasons/NQ7C9eCOxkV6NWwi73Gj/playerIndex')\n",
    "\n",
    "# for player_name in team_data:\n",
    "#     player_id = team_data[player_name]['player_id']\n",
    "#     del(team_data[player_name]['player_id'])\n",
    "#     team_data[player_name]['name'] = player_name\n",
    "#     doc_ref.document(player_id).update({'name': player_name})\n",
    "\n",
    "\n"
   ]
  },
  {
   "cell_type": "code",
   "execution_count": null,
   "id": "82d3e5f5",
   "metadata": {},
   "outputs": [],
   "source": [
    "print(team_data)\n"
   ]
  }
 ],
 "metadata": {
  "jupytext": {
   "cell_metadata_filter": "-all",
   "main_language": "python",
   "notebook_metadata_filter": "-all"
  },
  "kernelspec": {
   "display_name": "Python 3",
   "language": "python",
   "name": "python3"
  },
  "language_info": {
   "codemirror_mode": {
    "name": "ipython",
    "version": 3
   },
   "file_extension": ".py",
   "mimetype": "text/x-python",
   "name": "python",
   "nbconvert_exporter": "python",
   "pygments_lexer": "ipython3",
   "version": "3.12.1"
  }
 },
 "nbformat": 4,
 "nbformat_minor": 5
}
